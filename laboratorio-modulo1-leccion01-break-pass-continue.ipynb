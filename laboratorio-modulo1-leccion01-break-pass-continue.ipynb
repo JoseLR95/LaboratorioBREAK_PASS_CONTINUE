{
 "cells": [
  {
   "cell_type": "markdown",
   "metadata": {},
   "source": [
    "\n",
    "<div style=\"text-align: center;\">\n",
    "  <img src=\"https://github.com/Hack-io-Data/Imagenes/blob/main/01-LogosHackio/logo_celeste@4x.png?raw=true\" alt=\"esquema\" />\n",
    "</div>\n"
   ]
  },
  {
   "cell_type": "markdown",
   "metadata": {},
   "source": [
    "# Laboratorio de Python: break(), pass(), continue()"
   ]
  },
  {
   "cell_type": "markdown",
   "metadata": {},
   "source": [
    "## Ejercicio 1: Validación de datos numéricos. \n",
    "\n",
    "Escribe un bucle que lea una lista de números y detenga la ejecución si encuentra un valor negativo. Muestra un mensaje indicando el número negativo encontrado.\n"
   ]
  },
  {
   "cell_type": "code",
   "execution_count": 9,
   "metadata": {},
   "outputs": [
    {
     "data": {
      "text/plain": [
       "[-10]"
      ]
     },
     "execution_count": 9,
     "metadata": {},
     "output_type": "execute_result"
    }
   ],
   "source": [
    "lista = [1,2,4,7,-10,8]\n",
    "def validacion_numeros(lista):\n",
    "    negativo = []\n",
    "    for numero in lista:\n",
    "        if numero < 0:\n",
    "            negativo.append(numero)\n",
    "            break\n",
    "    else: \n",
    "        pass\n",
    "    return negativo\n",
    "validacion_numeros(lista)"
   ]
  },
  {
   "cell_type": "markdown",
   "metadata": {},
   "source": [
    "\n",
    "## Ejercicio 2: Filtrado de datos\n",
    "\n",
    "Escribe un bucle que imprima los números de una lista, pero que omita los números pares.\n"
   ]
  },
  {
   "cell_type": "code",
   "execution_count": 13,
   "metadata": {},
   "outputs": [
    {
     "data": {
      "text/plain": [
       "[1, 7, 5]"
      ]
     },
     "execution_count": 13,
     "metadata": {},
     "output_type": "execute_result"
    }
   ],
   "source": [
    "lista = [1,2,4,7,10,8,5]\n",
    "def impares(lista):\n",
    "    impares = []\n",
    "    for numero in lista:\n",
    "        if numero %2 != 0:\n",
    "            impares.append(numero)\n",
    "        if numero %2 == 0:\n",
    "            continue\n",
    "    return impares\n",
    "impares(lista)"
   ]
  },
  {
   "cell_type": "markdown",
   "metadata": {},
   "source": [
    "## Ejercicio 3: Búsqueda de un valor\n",
    "\n",
    "Escribe un programa que busque un valor específico en una lista y detenga la búsqueda cuando lo encuentre. Si se encuentra, muestra un mensaje.\n"
   ]
  },
  {
   "cell_type": "code",
   "execution_count": 16,
   "metadata": {},
   "outputs": [
    {
     "name": "stdout",
     "output_type": "stream",
     "text": [
      "Se ha encontrado el numero\n"
     ]
    }
   ],
   "source": [
    "lista = [1,2,4,7,10,8,5]\n",
    "buscado = 5\n",
    "def buscar_valor(lista,buscado):\n",
    "    for x in lista:\n",
    "        if x == buscado:\n",
    "            print(\"Se ha encontrado el numero\")\n",
    "            break\n",
    "        else:\n",
    "            continue\n",
    "buscar_valor(lista,buscado)"
   ]
  },
  {
   "cell_type": "markdown",
   "metadata": {},
   "source": [
    "## Ejercicio 4: Estructura de código incompleto\n",
    "\n",
    "Define una función que aún no tenga lógica implementada, pero que se pueda ejecutar sin errores utilizando `pass`."
   ]
  },
  {
   "cell_type": "code",
   "execution_count": 17,
   "metadata": {},
   "outputs": [],
   "source": [
    "def funcion_esperada():\n",
    "    pass\n",
    "funcion_esperada()"
   ]
  },
  {
   "cell_type": "markdown",
   "metadata": {},
   "source": [
    "## Ejercicio 5: Validación condicional\n",
    "\n",
    "Escribe un bucle que verifique una lista de nombres. Si encuentra un nombre vacío (cadena vacía), salta esa iteración y continúa con los demás nombres.\n"
   ]
  },
  {
   "cell_type": "code",
   "execution_count": 20,
   "metadata": {},
   "outputs": [
    {
     "data": {
      "text/plain": [
       "['juan', 'pedro', 'maria', 'paco', '', 'lola']"
      ]
     },
     "execution_count": 20,
     "metadata": {},
     "output_type": "execute_result"
    }
   ],
   "source": [
    "nombres = [\"juan\", \"pedro\", \"maria\", \"paco\", \"\",\"lola\"]\n",
    "def validacion_nombres(nombres):\n",
    "    for nombre in nombres:\n",
    "        if nombre == \"\":\n",
    "            continue\n",
    "    return nombres\n",
    "validacion_nombres(nombres)"
   ]
  },
  {
   "cell_type": "markdown",
   "metadata": {},
   "source": [
    "## Ejercicio 6: Búsqueda de claves en un diccionario\n",
    "\n",
    "Escribe un programa que recorra un diccionario y detenga la búsqueda si encuentra una clave específica pasada por el usuario.\n"
   ]
  },
  {
   "cell_type": "code",
   "execution_count": 19,
   "metadata": {},
   "outputs": [
    {
     "name": "stdout",
     "output_type": "stream",
     "text": [
      "Se ha encontrado la clave\n"
     ]
    }
   ],
   "source": [
    "diccionario = {\"nombre\":\"juan\",\"edad\":5, \"nacionalidad\":\"esp\"}\n",
    "clave = \"nombre\"\n",
    "def buscar_valor(diccionario,clave):\n",
    "    for x in diccionario:\n",
    "        if x == clave:\n",
    "            print(\"Se ha encontrado la clave\")\n",
    "            break\n",
    "        else:\n",
    "            continue\n",
    "buscar_valor(diccionario,clave)"
   ]
  },
  {
   "cell_type": "markdown",
   "metadata": {},
   "source": [
    "## Ejercicio 7: Bucle con múltiples excepciones\n",
    "\n",
    "Escribe un bucle que procese una lista de operaciones matemáticas, omitiendo las operaciones que intenten dividir por cero.\n"
   ]
  },
  {
   "cell_type": "code",
   "execution_count": 32,
   "metadata": {},
   "outputs": [
    {
     "data": {
      "text/plain": [
       "[0.3333333333333333, 0.6, 0.0]"
      ]
     },
     "execution_count": 32,
     "metadata": {},
     "output_type": "execute_result"
    }
   ],
   "source": [
    "numeros = [1,3,5,0,6]\n",
    "def operaciones(numeros):\n",
    "    divisiones = []\n",
    "    for x in range(len(numeros) - 1):\n",
    "        if numeros [x + 1] == 0:\n",
    "            continue\n",
    "        resultado = numeros [x] / numeros [x + 1]\n",
    "        divisiones.append(resultado)\n",
    "    return divisiones\n",
    "operaciones(numeros)\n",
    "\n"
   ]
  },
  {
   "cell_type": "markdown",
   "metadata": {},
   "source": [
    "## Ejercicio 8: Búsqueda en una lista anidada\n",
    "\n",
    "Escribe un programa que recorra una lista de listas y detenga la búsqueda cuando encuentre un valor mayor a 50.\n"
   ]
  },
  {
   "cell_type": "code",
   "execution_count": 40,
   "metadata": {},
   "outputs": [
    {
     "name": "stdout",
     "output_type": "stream",
     "text": [
      "valor mayor a 50\n"
     ]
    }
   ],
   "source": [
    "lista_de_lista = [[1, 2, 3], [4, 5, 6], [7, 8, 51], [10, 11, 12]]\n",
    "def valor_mayor_50 (lista):\n",
    "    lista_unida = []\n",
    "    for sublista in range(len(lista_de_lista)):\n",
    "        for valor in range(len(lista_de_lista[sublista])):\n",
    "            lista_unida.append(lista_de_lista[sublista][valor])\n",
    "    for x in lista_unida:\n",
    "        if x >= 50:\n",
    "            print (\"valor mayor a 50\")\n",
    "            break\n",
    "valor_mayor_50 (lista_de_lista)"
   ]
  },
  {
   "cell_type": "markdown",
   "metadata": {},
   "source": [
    "## Ejercicio 9: Evaluación de series temporales\n",
    "\n",
    "Escribe un programa que recorra una lista de datos de series temporales y se detenga si encuentra un valor atípico (mayor a 100).\n"
   ]
  },
  {
   "cell_type": "code",
   "execution_count": null,
   "metadata": {},
   "outputs": [],
   "source": [
    "series_temporales = [[\"2024-01-01\", 10],[\"2024-01-02\", 11],[\"2024-01-03\", 15],[\"2024-01-04\", 250],[\"2024-01-05\", 12],[\"2024-01-06\", 45],[\"2024-01-07\", 13]]\n",
    "def valor_mayor_50 (series_temporales):\n",
    "    for sublista in series_temporales:\n",
    "        for valor in sublista:\n",
    "            if type(valor) == str:\n",
    "                continue\n",
    "            if type(valor) == int and valor >= 100:\n",
    "                print (\"valor mayor de 100\")\n",
    "                break"
   ]
  },
  {
   "cell_type": "markdown",
   "metadata": {},
   "source": [
    "## Ejercicio 10: Iteración con valores faltantes\n",
    "\n",
    "Crea un bucle que recorra una lista de datos de ventas y salte los valores faltantes representados por `None`."
   ]
  },
  {
   "cell_type": "code",
   "execution_count": null,
   "metadata": {},
   "outputs": [],
   "source": [
    "ventas = [100,3000,500,None,70,None,99,150]\n",
    "for numero in ventas:\n",
    "    if numero == None:\n",
    "        continue\n"
   ]
  },
  {
   "cell_type": "markdown",
   "metadata": {},
   "source": [
    "## Ejercicio 11: Control de flujo en bucles anidados\n",
    "\n",
    "Escribe un bucle que recorra la matriz dada y se detenga si se encuentra un número negativo, mostrando su posición.\n",
    "\n"
   ]
  },
  {
   "cell_type": "code",
   "execution_count": 23,
   "metadata": {},
   "outputs": [
    {
     "name": "stdout",
     "output_type": "stream",
     "text": [
      "Se ha encontrado un numero negativo en la posicion [3] [1]\n"
     ]
    }
   ],
   "source": [
    "matriz = [[1, 2, 3], [4, 5, 6], [7, 8, 51], [-1, 11, 12]]\n",
    "def buscar_numero_negativo(matriz):\n",
    "    contador_lista = -1\n",
    "    contador_sublista = -1\n",
    "    for submatriz in matriz:\n",
    "        contador_lista += 1\n",
    "        for numero in submatriz:\n",
    "            contador_sublista =+ 1\n",
    "            if numero  <= 0:\n",
    "                print (f\"Se ha encontrado un numero negativo en la posicion {[contador_lista]} {[contador_sublista]}\")\n",
    "                break\n",
    "buscar_numero_negativo(matriz)"
   ]
  }
 ],
 "metadata": {
  "kernelspec": {
   "display_name": "Python 3",
   "language": "python",
   "name": "python3"
  },
  "language_info": {
   "codemirror_mode": {
    "name": "ipython",
    "version": 3
   },
   "file_extension": ".py",
   "mimetype": "text/x-python",
   "name": "python",
   "nbconvert_exporter": "python",
   "pygments_lexer": "ipython3",
   "version": "3.12.5"
  }
 },
 "nbformat": 4,
 "nbformat_minor": 2
}
